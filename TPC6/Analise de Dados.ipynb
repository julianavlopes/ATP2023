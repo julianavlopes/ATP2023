{
 "cells": [
  {
   "cell_type": "markdown",
   "metadata": {},
   "source": [
    "### TPC6: Análise de dados: doença cardíaca\n",
    "\n",
    "Descarregue o ficheiro de dados: [diabetes_prediction_dataset.csv](./datasets/diabetes_prediction_dataset.csv.zip).\n",
    "\n",
    "Encontra mais informação sobre este conjunto de dados [aqui](https://www.kaggle.com/datasets/iammustafatz/diabetes-prediction-dataset).\n",
    "\n",
    "Crie um programa em Python, conjunto de funções, que responda às seguintes questões:\n",
    "* Crie uma função que lê a informação do ficheiro para um modelo, previamente pensado em memória;\n",
    "* Crie uma função que calcula a distribuição da doença por sexo (tenha atenção que indivíduos doentes e não doentes no dataset);\n",
    "* Crie uma função que calcula a distribuição da doença por escalões etários. Considere os seguintes escalões: [0-10], [11-24], [25-29], [30-34], [35-39], [40-44], ...\n",
    "* Crie uma função que calcula a distribuição da doença por níveis de glucose. Considere um nível igual a um intervalo de 10 unidades, comece no limite inferior e crie os níveis necessários até abranger o limite superior;\n",
    "* Crie uma função que imprime na forma de uma tabela uma distribuição;\n",
    "* Especifique um programa que ao executar apresenta as tabelas correspondentes às distribuições pedidas."
   ]
  },
  {
   "cell_type": "code",
   "execution_count": 29,
   "metadata": {},
   "outputs": [
    {
     "ename": "TypeError",
     "evalue": "int() argument must be a string, a bytes-like object or a number, not 'tuple'",
     "output_type": "error",
     "traceback": [
      "\u001b[1;31m---------------------------------------------------------------------------\u001b[0m",
      "\u001b[1;31mTypeError\u001b[0m                                 Traceback (most recent call last)",
      "\u001b[1;32md:\\Universidade\\2ºano- 1º Semestre\\Programação\\TPC6\\Analise de Dados.ipynb Cell 2\u001b[0m line \u001b[0;36m4\n\u001b[0;32m     <a href='vscode-notebook-cell:/d%3A/Universidade/2%C2%BAano-%201%C2%BA%20Semestre/Programa%C3%A7%C3%A3o/TPC6/Analise%20de%20Dados.ipynb#W2sZmlsZQ%3D%3D?line=46'>47</a>\u001b[0m         \u001b[39mif\u001b[39;00m \u001b[39m0.0\u001b[39m \u001b[39m<\u001b[39m\u001b[39m=\u001b[39m valorInteiro \u001b[39m<\u001b[39m \u001b[39m10.0\u001b[39m:\n\u001b[0;32m     <a href='vscode-notebook-cell:/d%3A/Universidade/2%C2%BAano-%201%C2%BA%20Semestre/Programa%C3%A7%C3%A3o/TPC6/Analise%20de%20Dados.ipynb#W2sZmlsZQ%3D%3D?line=47'>48</a>\u001b[0m             res[\u001b[39m0\u001b[39m]\u001b[39m.\u001b[39mappend(valorInteiro)\n\u001b[1;32m---> <a href='vscode-notebook-cell:/d%3A/Universidade/2%C2%BAano-%201%C2%BA%20Semestre/Programa%C3%A7%C3%A3o/TPC6/Analise%20de%20Dados.ipynb#W2sZmlsZQ%3D%3D?line=48'>49</a>\u001b[0m calculoEscalao \u001b[39m=\u001b[39m calcEsc(tabDiabetes1)\n",
      "\u001b[1;32md:\\Universidade\\2ºano- 1º Semestre\\Programação\\TPC6\\Analise de Dados.ipynb Cell 2\u001b[0m line \u001b[0;36m4\n\u001b[0;32m     <a href='vscode-notebook-cell:/d%3A/Universidade/2%C2%BAano-%201%C2%BA%20Semestre/Programa%C3%A7%C3%A3o/TPC6/Analise%20de%20Dados.ipynb#W2sZmlsZQ%3D%3D?line=42'>43</a>\u001b[0m res \u001b[39m=\u001b[39m [[] \u001b[39mfor\u001b[39;00m _ \u001b[39min\u001b[39;00m \u001b[39mrange\u001b[39m(\u001b[39m11\u001b[39m)]\n\u001b[0;32m     <a href='vscode-notebook-cell:/d%3A/Universidade/2%C2%BAano-%201%C2%BA%20Semestre/Programa%C3%A7%C3%A3o/TPC6/Analise%20de%20Dados.ipynb#W2sZmlsZQ%3D%3D?line=43'>44</a>\u001b[0m valor \u001b[39m=\u001b[39m tabDiabetes[\u001b[39m1\u001b[39m]\n\u001b[1;32m---> <a href='vscode-notebook-cell:/d%3A/Universidade/2%C2%BAano-%201%C2%BA%20Semestre/Programa%C3%A7%C3%A3o/TPC6/Analise%20de%20Dados.ipynb#W2sZmlsZQ%3D%3D?line=44'>45</a>\u001b[0m valorInteiro \u001b[39m=\u001b[39m \u001b[39mint\u001b[39;49m(valor)\n\u001b[0;32m     <a href='vscode-notebook-cell:/d%3A/Universidade/2%C2%BAano-%201%C2%BA%20Semestre/Programa%C3%A7%C3%A3o/TPC6/Analise%20de%20Dados.ipynb#W2sZmlsZQ%3D%3D?line=45'>46</a>\u001b[0m \u001b[39mfor\u001b[39;00m valorInteiro \u001b[39min\u001b[39;00m tabDiabetes:\n\u001b[0;32m     <a href='vscode-notebook-cell:/d%3A/Universidade/2%C2%BAano-%201%C2%BA%20Semestre/Programa%C3%A7%C3%A3o/TPC6/Analise%20de%20Dados.ipynb#W2sZmlsZQ%3D%3D?line=46'>47</a>\u001b[0m     \u001b[39mif\u001b[39;00m \u001b[39m0.0\u001b[39m \u001b[39m<\u001b[39m\u001b[39m=\u001b[39m valorInteiro \u001b[39m<\u001b[39m \u001b[39m10.0\u001b[39m:\n",
      "\u001b[1;31mTypeError\u001b[0m: int() argument must be a string, a bytes-like object or a number, not 'tuple'"
     ]
    }
   ],
   "source": [
    "def lerFicheiro(arquivo):\n",
    "    res = []\n",
    "    fInfo = open(arquivo, \"r\")\n",
    "    primeiraLinha = fInfo.readline()\n",
    "    for linha in fInfo:\n",
    "        registo =linha[:-1]\n",
    "        campos = registo.split(\",\")\n",
    "        gender = str(campos[0])\n",
    "        age = float(campos[1])\n",
    "        ageInt = int(age)\n",
    "        hypertension = int(campos[2])\n",
    "        heartDisease = int(campos[3])\n",
    "        smokingHistory = str(campos[4])\n",
    "        bmi = float(campos[5])\n",
    "        Hba1cLevel = float(campos[6])\n",
    "        bloodGlucose = int(campos[7])\n",
    "        diabetes = int(campos[8])\n",
    "        res.append((gender, ageInt, hypertension, heartDisease, smokingHistory, bmi, Hba1cLevel, bloodGlucose, diabetes))\n",
    "    fInfo.close()\n",
    "    return res\n",
    "    \n",
    "\n",
    "tabDiabetes1 = lerFicheiro(\"diabetes_prediction_dataset.csv\")\n",
    "\n",
    "def calcDistDoenSexo(tabDiabetes):\n",
    "    res = []\n",
    "    feminino = 0\n",
    "    masculino = 0\n",
    "    for tabDiabetes[0] in tabDiabetes:\n",
    "        if tabDiabetes[0] == \"Female\":\n",
    "            feminino = feminino + 1\n",
    "        if tabDiabetes[0] == \"Male\":\n",
    "            masculino = masculino + 1\n",
    "    totalPessoas = len(tabDiabetes[0])\n",
    "    distMas = (masculino/totalPessoas) * 100\n",
    "    distFem = (feminino/totalPessoas) * 100\n",
    "    res.append(((\"Feminino\", distFem), (\"Masculino\", distMas)))\n",
    "    return res\n",
    "\n",
    "distribuicaoDoencaSexo = calcDistDoenSexo(tabDiabetes1)\n",
    "\n",
    "def calcEsc(tabDiabetes):\n",
    "    res = [[] for _ in range(11)]\n",
    "    valor = tabDiabetes[1]\n",
    "    valorInteiro = int(valor)\n",
    "    for valorInteiro in tabDiabetes:\n",
    "        if 0.0 <= valorInteiro < 10.0:\n",
    "            res[0].append(valorInteiro)\n",
    "calculoEscalao = calcEsc(tabDiabetes1)\n",
    "\n",
    "\n",
    "\n"
   ]
  }
 ],
 "metadata": {
  "kernelspec": {
   "display_name": "Python 3",
   "language": "python",
   "name": "python3"
  },
  "language_info": {
   "codemirror_mode": {
    "name": "ipython",
    "version": 3
   },
   "file_extension": ".py",
   "mimetype": "text/x-python",
   "name": "python",
   "nbconvert_exporter": "python",
   "pygments_lexer": "ipython3",
   "version": "3.9.6"
  },
  "orig_nbformat": 4
 },
 "nbformat": 4,
 "nbformat_minor": 2
}
