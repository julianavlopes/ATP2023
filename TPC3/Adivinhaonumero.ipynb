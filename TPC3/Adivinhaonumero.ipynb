{
 "cells": [
  {
   "cell_type": "markdown",
   "metadata": {},
   "source": [
    "## TPC3: Advinha o número!?\n",
    "\n",
    "Desenvolve em Python o código necessário para o jogo do Advinha o número. O jogo deverá ter dois modos: o computador tenta acertar no número que o jogador pensou, ou, o jogador tenta acertar no número que o computador pensou. No fim, o programa deverá indicar quantas tentativas foram realizadas para chegar ao resultado.\n",
    "\n",
    "Que conclusão podes tirar sobre o número de tentativas necessárias para um número entre 0 e 100? E se fosse entre 0 e 1000?"
   ]
  },
  {
   "cell_type": "markdown",
   "metadata": {},
   "source": [
    "- Computador tenta acertar no número que o jogador pensou:"
   ]
  },
  {
   "cell_type": "code",
   "execution_count": 14,
   "metadata": {},
   "outputs": [
    {
     "name": "stdout",
     "output_type": "stream",
     "text": [
      "menor\n",
      "maior\n",
      "menor\n",
      "maior\n",
      "maior\n",
      "menor\n",
      "maior\n",
      "24\n",
      "8\n"
     ]
    }
   ],
   "source": [
    "# Computador tenta acertar\n",
    "\n",
    "n = int(input(\"Introduza um número\"))\n",
    "import random\n",
    "max = 100\n",
    "min = 0\n",
    "execucoes = 0\n",
    "i = 0\n",
    "while i == 0:\n",
    "    k = random.randint(min, max)\n",
    "    if n == k: \n",
    "        i = 1\n",
    "        print(k)\n",
    "    if n < k:\n",
    "        print(\"menor\")\n",
    "        max = k - 1\n",
    "    if n > k:\n",
    "        print(\"maior\")\n",
    "        min = k + 1\n",
    "    execucoes = execucoes + 1\n",
    "\n",
    "print(execucoes)\n"
   ]
  },
  {
   "cell_type": "markdown",
   "metadata": {},
   "source": [
    "- Jogador tenta acertar no número que o computador pensou:"
   ]
  },
  {
   "cell_type": "code",
   "execution_count": 16,
   "metadata": {},
   "outputs": [
    {
     "name": "stdout",
     "output_type": "stream",
     "text": [
      "maior\n",
      "maior\n",
      "maior\n",
      "maior\n",
      "maior\n",
      "menor\n",
      "menor\n",
      "correto\n",
      "8\n"
     ]
    }
   ],
   "source": [
    "# Jogador tenta acertar\n",
    "\n",
    "import random \n",
    "k = random.randrange(0,101)\n",
    "execucoes = 0\n",
    "i = 0\n",
    "    \n",
    "while i == 0:\n",
    "    n = int(input(\"Introduza um número\"))\n",
    "    if n < k:\n",
    "          print(\"maior\")\n",
    "    if n > k:\n",
    "          print(\"menor\")\n",
    "    if n == k:\n",
    "       i = 1\n",
    "       print(\"correto\")\n",
    "\n",
    "    execucoes = execucoes + 1\n",
    "\n",
    "print(execucoes)\n",
    "\n"
   ]
  }
 ],
 "metadata": {
  "kernelspec": {
   "display_name": "Python 3",
   "language": "python",
   "name": "python3"
  },
  "language_info": {
   "codemirror_mode": {
    "name": "ipython",
    "version": 3
   },
   "file_extension": ".py",
   "mimetype": "text/x-python",
   "name": "python",
   "nbconvert_exporter": "python",
   "pygments_lexer": "ipython3",
   "version": "3.9.6"
  },
  "orig_nbformat": 4
 },
 "nbformat": 4,
 "nbformat_minor": 2
}
